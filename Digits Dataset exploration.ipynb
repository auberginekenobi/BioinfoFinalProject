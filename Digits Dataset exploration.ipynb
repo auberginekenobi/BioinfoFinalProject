{
 "metadata": {
  "name": "",
  "signature": "sha256:513c9f0f0339279a30317b34ba9dee84ca9537a2e576c6eda49882f6ecdcd590"
 },
 "nbformat": 3,
 "nbformat_minor": 0,
 "worksheets": [
  {
   "cells": [
    {
     "cell_type": "code",
     "collapsed": false,
     "input": [
      "\"\"\"\n",
      "We introduce scikit-learn by applying it to create a random forest classifier for the toy \n",
      "digits classification dataset.  \n",
      "Because these data have labels, this is a supervised classification problem.  \n",
      "Download Anaconda and open it in an editor of your choice.  \n",
      "To begin, let\u2019s visualize the Digits dataset:\n",
      "\"\"\"\n",
      "from sklearn import datasets\n",
      "from sklearn.ensemble import RandomForestClassifier\n",
      "digits = datasets.load_digits()\n",
      "import pylab as pl\n",
      "\n",
      "print (digits.data.shape)"
     ],
     "language": "python",
     "metadata": {},
     "outputs": []
    },
    {
     "cell_type": "code",
     "collapsed": false,
     "input": [
      "# train the classifier on all but the last 100 sample of the digits set\n",
      "classifier = RandomForestClassifier()\n",
      "classifier = classifier.fit(digits.data[:-100],digits.target[:-100])"
     ],
     "language": "python",
     "metadata": {},
     "outputs": []
    },
    {
     "cell_type": "code",
     "collapsed": false,
     "input": [
      "\"\"\"\n",
      "You may make classifier using any of the classifier classes available in scikit-learn.  \n",
      "Here, we create a RandomForestClassifier called \u201cclassifier\u201d and train it using the fit method.  \n",
      "fit() takes two arguments, a list of feature vectors and a list of targets.  \n",
      "Our classifier has been trained using all but the last 100 samples of the digits dataset.\n",
      "\n",
      "Let\u2019s visualize what the classifier is doing using matplot.lib:\n",
      "\"\"\"\n",
      "# check on the last sample in the digits set\n",
      "pl.gray()\n",
      "pl.matshow(digits.images[-1])\n",
      "pl.show()\n",
      "print \"classified as\",classifier.predict(digits.data[-1])\n",
      "print digits.target[-1]\n"
     ],
     "language": "python",
     "metadata": {},
     "outputs": []
    },
    {
     "cell_type": "code",
     "collapsed": false,
     "input": [
      "\"\"\"\n",
      "Finally, let\u2019s see how effective our classifier is.  \n",
      "We\u2019ll take our entire testing set of 100 features, which we separated from the training set, \n",
      "and see how many our random forest classifier can correctly identify.\n",
      "\"\"\"\n",
      "\n",
      "#second check on the last 100 samples\n",
      "i=1\n",
      "c=0.0\n",
      "while i<=100:\n",
      "if classifier.predict(digits.data[-i])==digits.target[-i]:\n",
      "c+=1\n",
      "i+=1\n",
      "print \"classifier accuracy:\", c/i"
     ],
     "language": "python",
     "metadata": {},
     "outputs": []
    },
    {
     "cell_type": "code",
     "collapsed": false,
     "input": [
      "\"\"\"\n",
      "Addendum:\n",
      "It is NOT legitimate to alter your classifier using feedback from the testing set.  To do so would \n",
      "invalidate the assumption of the testing set as unknown.  Use a testing set at the very end of a \n",
      "project for some indication of how well your machine will perform on unknown real-world data, and\n",
      "use a verification set to tinker with the parameters of your machine if you plan on going back and \n",
      "modifying it.\n",
      "\"\"\""
     ],
     "language": "python",
     "metadata": {},
     "outputs": []
    }
   ],
   "metadata": {}
  }
 ]
}